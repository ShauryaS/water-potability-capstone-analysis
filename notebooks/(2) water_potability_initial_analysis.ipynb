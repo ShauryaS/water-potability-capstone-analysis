{
 "cells": [
  {
   "cell_type": "markdown",
   "metadata": {},
   "source": [
    "## Water Potability Machine Learning Initial Analysis with Classifiers"
   ]
  },
  {
   "cell_type": "markdown",
   "metadata": {},
   "source": [
    "### Imports"
   ]
  },
  {
   "cell_type": "code",
   "execution_count": 1,
   "metadata": {},
   "outputs": [],
   "source": [
    "import sys\n",
    "import os\n",
    "import warnings\n",
    "\n",
    "if not sys.warnoptions:\n",
    "    warnings.simplefilter(\"ignore\")\n",
    "    os.environ[\"PYTHONWARNINGS\"] = \"ignore\"\n",
    "\n",
    "import pandas as pd\n",
    "\n",
    "from sklearn.preprocessing import StandardScaler\n",
    "from sklearn.model_selection import train_test_split\n",
    "\n",
    "from sklearn.pipeline import Pipeline\n",
    "\n",
    "from sklearn.metrics import accuracy_score, precision_score, make_scorer\n",
    "from sklearn.linear_model import LogisticRegression\n",
    "from sklearn.neighbors import KNeighborsClassifier\n",
    "from sklearn.svm import SVC\n",
    "from sklearn.tree import DecisionTreeClassifier\n",
    "from sklearn.ensemble import RandomForestClassifier\n",
    "\n",
    "from sklearn.experimental import enable_halving_search_cv\n",
    "from sklearn.model_selection import GridSearchCV, HalvingGridSearchCV\n",
    "from sklearn.feature_selection import SelectFromModel\n",
    "\n"
   ]
  },
  {
   "cell_type": "markdown",
   "metadata": {},
   "source": [
    "### Load Data"
   ]
  },
  {
   "cell_type": "code",
   "execution_count": 2,
   "metadata": {},
   "outputs": [
    {
     "data": {
      "text/html": [
       "<div>\n",
       "<style scoped>\n",
       "    .dataframe tbody tr th:only-of-type {\n",
       "        vertical-align: middle;\n",
       "    }\n",
       "\n",
       "    .dataframe tbody tr th {\n",
       "        vertical-align: top;\n",
       "    }\n",
       "\n",
       "    .dataframe thead th {\n",
       "        text-align: right;\n",
       "    }\n",
       "</style>\n",
       "<table border=\"1\" class=\"dataframe\">\n",
       "  <thead>\n",
       "    <tr style=\"text-align: right;\">\n",
       "      <th></th>\n",
       "      <th>ph</th>\n",
       "      <th>Hardness</th>\n",
       "      <th>Solids</th>\n",
       "      <th>Chloramines</th>\n",
       "      <th>Sulfate</th>\n",
       "      <th>Conductivity</th>\n",
       "      <th>Organic_carbon</th>\n",
       "      <th>Trihalomethanes</th>\n",
       "      <th>Turbidity</th>\n",
       "      <th>Potability</th>\n",
       "    </tr>\n",
       "  </thead>\n",
       "  <tbody>\n",
       "    <tr>\n",
       "      <th>0</th>\n",
       "      <td>NaN</td>\n",
       "      <td>204.890455</td>\n",
       "      <td>20791.318981</td>\n",
       "      <td>7.300212</td>\n",
       "      <td>368.516441</td>\n",
       "      <td>564.308654</td>\n",
       "      <td>10.379783</td>\n",
       "      <td>86.990970</td>\n",
       "      <td>2.963135</td>\n",
       "      <td>0</td>\n",
       "    </tr>\n",
       "    <tr>\n",
       "      <th>1</th>\n",
       "      <td>3.716080</td>\n",
       "      <td>129.422921</td>\n",
       "      <td>18630.057858</td>\n",
       "      <td>6.635246</td>\n",
       "      <td>NaN</td>\n",
       "      <td>592.885359</td>\n",
       "      <td>15.180013</td>\n",
       "      <td>56.329076</td>\n",
       "      <td>4.500656</td>\n",
       "      <td>0</td>\n",
       "    </tr>\n",
       "    <tr>\n",
       "      <th>2</th>\n",
       "      <td>8.099124</td>\n",
       "      <td>224.236259</td>\n",
       "      <td>19909.541732</td>\n",
       "      <td>9.275884</td>\n",
       "      <td>NaN</td>\n",
       "      <td>418.606213</td>\n",
       "      <td>16.868637</td>\n",
       "      <td>66.420093</td>\n",
       "      <td>3.055934</td>\n",
       "      <td>0</td>\n",
       "    </tr>\n",
       "    <tr>\n",
       "      <th>3</th>\n",
       "      <td>8.316766</td>\n",
       "      <td>214.373394</td>\n",
       "      <td>22018.417441</td>\n",
       "      <td>8.059332</td>\n",
       "      <td>356.886136</td>\n",
       "      <td>363.266516</td>\n",
       "      <td>18.436524</td>\n",
       "      <td>100.341674</td>\n",
       "      <td>4.628771</td>\n",
       "      <td>0</td>\n",
       "    </tr>\n",
       "    <tr>\n",
       "      <th>4</th>\n",
       "      <td>9.092223</td>\n",
       "      <td>181.101509</td>\n",
       "      <td>17978.986339</td>\n",
       "      <td>6.546600</td>\n",
       "      <td>310.135738</td>\n",
       "      <td>398.410813</td>\n",
       "      <td>11.558279</td>\n",
       "      <td>31.997993</td>\n",
       "      <td>4.075075</td>\n",
       "      <td>0</td>\n",
       "    </tr>\n",
       "  </tbody>\n",
       "</table>\n",
       "</div>"
      ],
      "text/plain": [
       "         ph    Hardness        Solids  Chloramines     Sulfate  Conductivity  \\\n",
       "0       NaN  204.890455  20791.318981     7.300212  368.516441    564.308654   \n",
       "1  3.716080  129.422921  18630.057858     6.635246         NaN    592.885359   \n",
       "2  8.099124  224.236259  19909.541732     9.275884         NaN    418.606213   \n",
       "3  8.316766  214.373394  22018.417441     8.059332  356.886136    363.266516   \n",
       "4  9.092223  181.101509  17978.986339     6.546600  310.135738    398.410813   \n",
       "\n",
       "   Organic_carbon  Trihalomethanes  Turbidity  Potability  \n",
       "0       10.379783        86.990970   2.963135           0  \n",
       "1       15.180013        56.329076   4.500656           0  \n",
       "2       16.868637        66.420093   3.055934           0  \n",
       "3       18.436524       100.341674   4.628771           0  \n",
       "4       11.558279        31.997993   4.075075           0  "
      ]
     },
     "execution_count": 2,
     "metadata": {},
     "output_type": "execute_result"
    }
   ],
   "source": [
    "water_potability_data = pd.read_csv('../data/waterpotability.csv')\n",
    "water_potability_data.head()"
   ]
  },
  {
   "cell_type": "markdown",
   "metadata": {},
   "source": [
    "### Data Cleaning"
   ]
  },
  {
   "cell_type": "code",
   "execution_count": 3,
   "metadata": {},
   "outputs": [
    {
     "data": {
      "text/plain": [
       "ph                 491\n",
       "Hardness             0\n",
       "Solids               0\n",
       "Chloramines          0\n",
       "Sulfate            781\n",
       "Conductivity         0\n",
       "Organic_carbon       0\n",
       "Trihalomethanes    162\n",
       "Turbidity            0\n",
       "Potability           0\n",
       "dtype: int64"
      ]
     },
     "execution_count": 3,
     "metadata": {},
     "output_type": "execute_result"
    }
   ],
   "source": [
    "water_potability_data.isnull().sum()"
   ]
  },
  {
   "cell_type": "markdown",
   "metadata": {},
   "source": [
    "There are a lot of null values. However, since the dataset is already small, I will try to fill those values rather than dropping the rows will null values. "
   ]
  },
  {
   "cell_type": "code",
   "execution_count": 4,
   "metadata": {},
   "outputs": [
    {
     "data": {
      "text/html": [
       "<div>\n",
       "<style scoped>\n",
       "    .dataframe tbody tr th:only-of-type {\n",
       "        vertical-align: middle;\n",
       "    }\n",
       "\n",
       "    .dataframe tbody tr th {\n",
       "        vertical-align: top;\n",
       "    }\n",
       "\n",
       "    .dataframe thead th {\n",
       "        text-align: right;\n",
       "    }\n",
       "</style>\n",
       "<table border=\"1\" class=\"dataframe\">\n",
       "  <thead>\n",
       "    <tr style=\"text-align: right;\">\n",
       "      <th></th>\n",
       "      <th>ph</th>\n",
       "      <th>Sulfate</th>\n",
       "      <th>Trihalomethanes</th>\n",
       "    </tr>\n",
       "  </thead>\n",
       "  <tbody>\n",
       "    <tr>\n",
       "      <th>mean</th>\n",
       "      <td>7.085378</td>\n",
       "      <td>334.564290</td>\n",
       "      <td>66.303555</td>\n",
       "    </tr>\n",
       "    <tr>\n",
       "      <th>50%</th>\n",
       "      <td>7.035456</td>\n",
       "      <td>333.389426</td>\n",
       "      <td>66.542198</td>\n",
       "    </tr>\n",
       "  </tbody>\n",
       "</table>\n",
       "</div>"
      ],
      "text/plain": [
       "            ph     Sulfate  Trihalomethanes\n",
       "mean  7.085378  334.564290        66.303555\n",
       "50%   7.035456  333.389426        66.542198"
      ]
     },
     "execution_count": 4,
     "metadata": {},
     "output_type": "execute_result"
    }
   ],
   "source": [
    "(water_potability_data[['ph', 'Sulfate', 'Trihalomethanes']][water_potability_data['Potability']==0].describe()).loc[['mean', '50%']]"
   ]
  },
  {
   "cell_type": "code",
   "execution_count": 5,
   "metadata": {},
   "outputs": [
    {
     "data": {
      "text/html": [
       "<div>\n",
       "<style scoped>\n",
       "    .dataframe tbody tr th:only-of-type {\n",
       "        vertical-align: middle;\n",
       "    }\n",
       "\n",
       "    .dataframe tbody tr th {\n",
       "        vertical-align: top;\n",
       "    }\n",
       "\n",
       "    .dataframe thead th {\n",
       "        text-align: right;\n",
       "    }\n",
       "</style>\n",
       "<table border=\"1\" class=\"dataframe\">\n",
       "  <thead>\n",
       "    <tr style=\"text-align: right;\">\n",
       "      <th></th>\n",
       "      <th>ph</th>\n",
       "      <th>Sulfate</th>\n",
       "      <th>Trihalomethanes</th>\n",
       "    </tr>\n",
       "  </thead>\n",
       "  <tbody>\n",
       "    <tr>\n",
       "      <th>mean</th>\n",
       "      <td>7.073783</td>\n",
       "      <td>332.566990</td>\n",
       "      <td>66.539684</td>\n",
       "    </tr>\n",
       "    <tr>\n",
       "      <th>50%</th>\n",
       "      <td>7.036752</td>\n",
       "      <td>331.838167</td>\n",
       "      <td>66.678214</td>\n",
       "    </tr>\n",
       "  </tbody>\n",
       "</table>\n",
       "</div>"
      ],
      "text/plain": [
       "            ph     Sulfate  Trihalomethanes\n",
       "mean  7.073783  332.566990        66.539684\n",
       "50%   7.036752  331.838167        66.678214"
      ]
     },
     "execution_count": 5,
     "metadata": {},
     "output_type": "execute_result"
    }
   ],
   "source": [
    "(water_potability_data[['ph', 'Sulfate', 'Trihalomethanes']][water_potability_data['Potability']==1].describe().loc[['mean', '50%']])"
   ]
  },
  {
   "cell_type": "code",
   "execution_count": 6,
   "metadata": {},
   "outputs": [
    {
     "name": "stdout",
     "output_type": "stream",
     "text": [
      "Mean Difference:\n",
      "ph                -0.011595\n",
      "Sulfate           -1.997299\n",
      "Trihalomethanes    0.236128\n",
      "dtype: float64\n",
      "\n",
      "Median Difference:\n",
      "ph                 0.001297\n",
      "Sulfate           -1.551259\n",
      "Trihalomethanes    0.136016\n",
      "dtype: float64\n"
     ]
    }
   ],
   "source": [
    "potable_mean = water_potability_data[water_potability_data['Potability'] == 1][['ph', 'Sulfate', 'Trihalomethanes']].mean()\n",
    "potable_median = water_potability_data[water_potability_data['Potability'] == 1][['ph', 'Sulfate', 'Trihalomethanes']].median()\n",
    "\n",
    "non_potable_mean = water_potability_data[water_potability_data['Potability'] == 0][['ph', 'Sulfate', 'Trihalomethanes']].mean()\n",
    "non_potable_median = water_potability_data[water_potability_data['Potability'] == 0][['ph', 'Sulfate', 'Trihalomethanes']].median()\n",
    "\n",
    "mean_diff = potable_mean - non_potable_mean\n",
    "median_diff = potable_median - non_potable_median\n",
    "\n",
    "print(\"Mean Difference:\")\n",
    "print(mean_diff)\n",
    "print(\"\\nMedian Difference:\")\n",
    "print(median_diff)"
   ]
  },
  {
   "cell_type": "markdown",
   "metadata": {},
   "source": [
    "There is a negligible difference between the mean and median figures for Potable and Non-Potable Water. Due to this, we can impute the data using the mean, hence leading to cleaned data. "
   ]
  },
  {
   "cell_type": "code",
   "execution_count": 7,
   "metadata": {},
   "outputs": [],
   "source": [
    "water_potability_cleaned_data = water_potability_data.copy()\n",
    "water_potability_cleaned_data['ph'] = water_potability_cleaned_data['ph'].fillna(water_potability_cleaned_data['ph'].mean())\n",
    "water_potability_cleaned_data['Sulfate'] = water_potability_cleaned_data['Sulfate'].fillna(water_potability_cleaned_data['Sulfate'].mean())\n",
    "water_potability_cleaned_data['Trihalomethanes'] = water_potability_cleaned_data['Trihalomethanes'].fillna(water_potability_cleaned_data['Trihalomethanes'].mean())"
   ]
  },
  {
   "cell_type": "markdown",
   "metadata": {},
   "source": [
    "### Data Prep"
   ]
  },
  {
   "cell_type": "code",
   "execution_count": 8,
   "metadata": {},
   "outputs": [],
   "source": [
    "X = water_potability_cleaned_data.drop('Potability', axis=1)\n",
    "y = water_potability_cleaned_data['Potability']"
   ]
  },
  {
   "cell_type": "code",
   "execution_count": 9,
   "metadata": {},
   "outputs": [],
   "source": [
    "X_train, X_test, y_train, y_test = train_test_split(X, y, test_size=0.2, random_state=142, shuffle=True, stratify=y)"
   ]
  },
  {
   "cell_type": "markdown",
   "metadata": {},
   "source": [
    "### Build Classifier Model Pipelines"
   ]
  },
  {
   "cell_type": "markdown",
   "metadata": {},
   "source": [
    "Use grid search to tune different hyper parameters and train the classifier models. Train using the accuracy metric. To save compute time on SVM, Halving Grid Search will be used instead as it is faster. Grid Search will be used for the rest.  "
   ]
  },
  {
   "cell_type": "markdown",
   "metadata": {},
   "source": [
    "**Logistic Regression Classifier Trained on Accuracy**"
   ]
  },
  {
   "cell_type": "code",
   "execution_count": 10,
   "metadata": {},
   "outputs": [
    {
     "name": "stdout",
     "output_type": "stream",
     "text": [
      "{'lgr__C': 0.1}\n",
      "Train Score: 0.6118320610687024\n",
      "Test Score: 0.6128048780487805\n",
      "Accuracy: 0.6128048780487805\n",
      "Precision: 1.0\n"
     ]
    }
   ],
   "source": [
    "extractor = SelectFromModel(LogisticRegression(penalty='l1', solver = 'liblinear', random_state = 42))\n",
    "\n",
    "lgr_pipe = Pipeline([('scaler', StandardScaler()),\n",
    "                    ('selector', extractor),\n",
    "                    ('lgr', LogisticRegression(random_state=42, max_iter = 1000))])\n",
    "\n",
    "params = {'lgr__C': [0.001, 0.01, 0.1, 1, 10, 100]}\n",
    "\n",
    "lgr_gs = GridSearchCV(lgr_pipe, param_grid=params, cv=5, scoring='accuracy', n_jobs=5).fit(X_train, y_train)\n",
    "\n",
    "lgr_train_score = lgr_gs.best_score_\n",
    "lgr_test_score = lgr_gs.score(X_test, y_test)\n",
    "\n",
    "lgr_accuracy = accuracy_score(y_test, lgr_gs.predict(X_test))\n",
    "lgr_precision = precision_score(y_test, lgr_gs.predict(X_test))\n",
    "\n",
    "print(lgr_gs.best_params_)\n",
    "\n",
    "print('Train Score:', lgr_train_score)\n",
    "print('Test Score:', lgr_test_score)\n",
    "\n",
    "print('Accuracy:', lgr_accuracy)\n",
    "print('Precision:', lgr_precision)"
   ]
  },
  {
   "cell_type": "markdown",
   "metadata": {},
   "source": [
    "**KNN Classifier Trained on Accuracy**"
   ]
  },
  {
   "cell_type": "code",
   "execution_count": 11,
   "metadata": {},
   "outputs": [
    {
     "name": "stdout",
     "output_type": "stream",
     "text": [
      "{'knn__n_neighbors': 15}\n",
      "Train Score: 0.6496183206106869\n",
      "Test Score: 0.6448170731707317\n",
      "Accuracy: 0.6448170731707317\n",
      "Precision: 0.6095238095238096\n"
     ]
    }
   ],
   "source": [
    "knn_pipe = Pipeline([\n",
    "    ('scaler', StandardScaler()),\n",
    "    ('knn', KNeighborsClassifier())\n",
    "])\n",
    "\n",
    "params = {'knn__n_neighbors': [n for n in range(1,22,2)]}\n",
    "\n",
    "knn_gs = GridSearchCV(knn_pipe, param_grid=params, cv=5, scoring='accuracy', n_jobs=5).fit(X_train, y_train)\n",
    "\n",
    "knn_train_score = knn_gs.best_score_\n",
    "knn_test_score = knn_gs.score(X_test, y_test)\n",
    "\n",
    "knn_accuracy = accuracy_score(y_test, knn_gs.predict(X_test))\n",
    "knn_precision = precision_score(y_test, knn_gs.predict(X_test))\n",
    "\n",
    "print(knn_gs.best_params_)\n",
    "\n",
    "print('Train Score:', knn_train_score)\n",
    "print('Test Score:', knn_test_score)\n",
    "\n",
    "print('Accuracy:', knn_accuracy)\n",
    "print('Precision:', knn_precision)"
   ]
  },
  {
   "cell_type": "markdown",
   "metadata": {},
   "source": [
    "**Decision Tree Classifier Trained on Accuracy**"
   ]
  },
  {
   "cell_type": "code",
   "execution_count": 12,
   "metadata": {},
   "outputs": [
    {
     "name": "stdout",
     "output_type": "stream",
     "text": [
      "{'dt__criterion': 'entropy', 'dt__max_depth': 9, 'dt__min_samples_leaf': 2, 'dt__min_samples_split': 5}\n",
      "Train Score: 0.6465648854961833\n",
      "Test Score: 0.6189024390243902\n",
      "Accuracy: 0.6189024390243902\n",
      "Precision: 0.53\n"
     ]
    }
   ],
   "source": [
    "dtree_pipe = Pipeline([\n",
    "    ('scaler', StandardScaler()),\n",
    "    ('dt', DecisionTreeClassifier(random_state=42))\n",
    "])\n",
    "\n",
    "params = {'dt__max_depth': range(1,11,2),\n",
    "          'dt__min_samples_split': [2,3,4,5],\n",
    "          'dt__min_samples_leaf': [1,2,3,4,5],\n",
    "          'dt__criterion': ['gini', 'entropy']}\n",
    "\n",
    "dtree_gs = GridSearchCV(dtree_pipe, param_grid=params, cv=5, scoring='accuracy', n_jobs=5).fit(X_train, y_train)\n",
    "\n",
    "dtree_train_score = dtree_gs.best_score_\n",
    "dtree_test_score = dtree_gs.score(X_test, y_test)\n",
    "\n",
    "dtree_accuracy = accuracy_score(y_test, dtree_gs.predict(X_test))\n",
    "dtree_precision = precision_score(y_test, dtree_gs.predict(X_test))\n",
    "\n",
    "print(dtree_gs.best_params_)\n",
    "\n",
    "print('Train Score:', dtree_train_score)\n",
    "print('Test Score:', dtree_test_score)\n",
    "\n",
    "print('Accuracy:', dtree_accuracy)\n",
    "print('Precision:', dtree_precision)"
   ]
  },
  {
   "cell_type": "markdown",
   "metadata": {},
   "source": [
    "**SVM Classifier Trained on Accuracy**"
   ]
  },
  {
   "cell_type": "code",
   "execution_count": 13,
   "metadata": {},
   "outputs": [
    {
     "name": "stdout",
     "output_type": "stream",
     "text": [
      "{'svm__C': 0.1, 'svm__gamma': 0.1, 'svm__kernel': 'poly'}\n",
      "Train Score: 0.6137667304015296\n",
      "Test Score: 0.6112804878048781\n",
      "Accuracy: 0.6112804878048781\n",
      "Precision: 1.0\n"
     ]
    }
   ],
   "source": [
    "svm_pipe = Pipeline([\n",
    "    ('scaler', StandardScaler()),\n",
    "    ('svm', SVC())\n",
    "])\n",
    "\n",
    "params = {'svm__C': [0.1, 1, 10],\n",
    "          'svm__kernel': ['rbf', 'poly', 'linear', 'sigmoid'],\n",
    "          'svm__gamma': [0.1, 1.0, 10.0]}\n",
    "\n",
    "svm_gs = HalvingGridSearchCV(svm_pipe, param_grid=params, cv=5, scoring='accuracy', n_jobs=5).fit(X_train, y_train)\n",
    "\n",
    "svm_train_score = svm_gs.best_score_\n",
    "svm_test_score = svm_gs.score(X_test, y_test)\n",
    "\n",
    "svm_accuracy = accuracy_score(y_test, svm_gs.predict(X_test))\n",
    "svm_precision = precision_score(y_test, svm_gs.predict(X_test))\n",
    "\n",
    "print(svm_gs.best_params_)\n",
    "\n",
    "print('Train Score:', svm_train_score)\n",
    "print('Test Score:', svm_test_score)\n",
    "\n",
    "print('Accuracy:', svm_accuracy)\n",
    "print('Precision:', svm_precision)"
   ]
  },
  {
   "cell_type": "markdown",
   "metadata": {},
   "source": [
    "**Random Forest Classifier Trained on Accuracy**"
   ]
  },
  {
   "cell_type": "code",
   "execution_count": 14,
   "metadata": {},
   "outputs": [
    {
     "name": "stdout",
     "output_type": "stream",
     "text": [
      "{'rf__max_depth': 20, 'rf__min_samples_leaf': 1, 'rf__min_samples_split': 5, 'rf__n_estimators': 200}\n",
      "Train Score: 0.6805343511450381\n",
      "Test Score: 0.6539634146341463\n",
      "Accuracy: 0.6539634146341463\n",
      "Precision: 0.6239316239316239\n"
     ]
    }
   ],
   "source": [
    "rf_pipe = Pipeline([\n",
    "    ('scaler', StandardScaler()),\n",
    "    ('rf', RandomForestClassifier(random_state=42))\n",
    "])\n",
    "\n",
    "params = {'rf__n_estimators': [100, 200, 300],\n",
    "            'rf__max_depth': [10, 20, 30],\n",
    "            'rf__min_samples_split': [2, 5, 10],\n",
    "            'rf__min_samples_leaf': [1, 2, 4]}\n",
    "\n",
    "rf_gs = GridSearchCV(rf_pipe, param_grid=params, cv=5, scoring='accuracy', n_jobs=5).fit(X_train, y_train)\n",
    "\n",
    "rf_train_score = rf_gs.best_score_\n",
    "rf_test_score = rf_gs.score(X_test, y_test)\n",
    "\n",
    "rf_accuracy = accuracy_score(y_test, rf_gs.predict(X_test))\n",
    "rf_precision = precision_score(y_test, rf_gs.predict(X_test))\n",
    "\n",
    "print(rf_gs.best_params_)\n",
    "print('Train Score:', rf_train_score)\n",
    "print('Test Score:', rf_test_score)\n",
    "\n",
    "print('Accuracy:', rf_accuracy)\n",
    "print('Precision:', rf_precision)"
   ]
  },
  {
   "cell_type": "code",
   "execution_count": 15,
   "metadata": {},
   "outputs": [
    {
     "data": {
      "text/html": [
       "<div>\n",
       "<style scoped>\n",
       "    .dataframe tbody tr th:only-of-type {\n",
       "        vertical-align: middle;\n",
       "    }\n",
       "\n",
       "    .dataframe tbody tr th {\n",
       "        vertical-align: top;\n",
       "    }\n",
       "\n",
       "    .dataframe thead th {\n",
       "        text-align: right;\n",
       "    }\n",
       "</style>\n",
       "<table border=\"1\" class=\"dataframe\">\n",
       "  <thead>\n",
       "    <tr style=\"text-align: right;\">\n",
       "      <th></th>\n",
       "      <th>model</th>\n",
       "      <th>train score</th>\n",
       "      <th>test score</th>\n",
       "      <th>accuracy</th>\n",
       "      <th>precision</th>\n",
       "    </tr>\n",
       "  </thead>\n",
       "  <tbody>\n",
       "    <tr>\n",
       "      <th>0</th>\n",
       "      <td>Logistic Regression</td>\n",
       "      <td>0.611832</td>\n",
       "      <td>0.612805</td>\n",
       "      <td>0.612805</td>\n",
       "      <td>1.000000</td>\n",
       "    </tr>\n",
       "    <tr>\n",
       "      <th>1</th>\n",
       "      <td>KNN</td>\n",
       "      <td>0.649618</td>\n",
       "      <td>0.644817</td>\n",
       "      <td>0.644817</td>\n",
       "      <td>0.609524</td>\n",
       "    </tr>\n",
       "    <tr>\n",
       "      <th>2</th>\n",
       "      <td>Decision Tree</td>\n",
       "      <td>0.646565</td>\n",
       "      <td>0.618902</td>\n",
       "      <td>0.618902</td>\n",
       "      <td>0.530000</td>\n",
       "    </tr>\n",
       "    <tr>\n",
       "      <th>3</th>\n",
       "      <td>SVC</td>\n",
       "      <td>0.613767</td>\n",
       "      <td>0.611280</td>\n",
       "      <td>0.611280</td>\n",
       "      <td>1.000000</td>\n",
       "    </tr>\n",
       "    <tr>\n",
       "      <th>4</th>\n",
       "      <td>Random Forest</td>\n",
       "      <td>0.680534</td>\n",
       "      <td>0.653963</td>\n",
       "      <td>0.653963</td>\n",
       "      <td>0.623932</td>\n",
       "    </tr>\n",
       "  </tbody>\n",
       "</table>\n",
       "</div>"
      ],
      "text/plain": [
       "                 model  train score  test score  accuracy  precision\n",
       "0  Logistic Regression     0.611832    0.612805  0.612805   1.000000\n",
       "1                  KNN     0.649618    0.644817  0.644817   0.609524\n",
       "2        Decision Tree     0.646565    0.618902  0.618902   0.530000\n",
       "3                  SVC     0.613767    0.611280  0.611280   1.000000\n",
       "4        Random Forest     0.680534    0.653963  0.653963   0.623932"
      ]
     },
     "execution_count": 15,
     "metadata": {},
     "output_type": "execute_result"
    }
   ],
   "source": [
    "findings_dict = {'model': ['Logistic Regression', 'KNN', 'Decision Tree', 'SVC', 'Random Forest'], \n",
    "                'train score': [lgr_train_score, knn_train_score, dtree_train_score, svm_train_score, rf_train_score],\n",
    "                'test score': [lgr_test_score, knn_test_score, dtree_test_score, svm_test_score, rf_test_score],\n",
    "                'accuracy': [lgr_accuracy, knn_accuracy, dtree_accuracy, svm_accuracy, rf_accuracy],\n",
    "                'precision': [lgr_precision, knn_precision, dtree_precision, svm_precision, rf_precision]}\n",
    "\n",
    "findings_df = pd.DataFrame(findings_dict)\n",
    "findings_df"
   ]
  },
  {
   "cell_type": "markdown",
   "metadata": {},
   "source": [
    "We will tune the models for the precision metric as well. To save compute time on SVM, Halving Grid Search will be used instead as it is faster. Grid Search will be used for the rest."
   ]
  },
  {
   "cell_type": "code",
   "execution_count": 16,
   "metadata": {},
   "outputs": [],
   "source": [
    "precision_scorer = make_scorer(precision_score, pos_label=1)"
   ]
  },
  {
   "cell_type": "markdown",
   "metadata": {},
   "source": [
    "**Logistic Regression Classifier Trained on Precision**"
   ]
  },
  {
   "cell_type": "code",
   "execution_count": 17,
   "metadata": {},
   "outputs": [
    {
     "name": "stdout",
     "output_type": "stream",
     "text": [
      "{'lgr__C': 0.1}\n",
      "Train Score: 0.5833333333333334\n",
      "Test Score: 1.0\n",
      "Accuracy: 0.6128048780487805\n",
      "Precision: 1.0\n"
     ]
    }
   ],
   "source": [
    "extractor = SelectFromModel(LogisticRegression(penalty='l1', solver = 'liblinear', random_state = 42))\n",
    "\n",
    "lgr_pipe = Pipeline([('scaler', StandardScaler()),\n",
    "                    ('selector', extractor),\n",
    "                    ('lgr', LogisticRegression(random_state=42, max_iter = 1000))])\n",
    "\n",
    "params = {'lgr__C': [0.001, 0.01, 0.1, 1, 10, 100]}\n",
    "\n",
    "lgr_gs = GridSearchCV(lgr_pipe, param_grid=params, cv=5, scoring=precision_scorer, n_jobs=5).fit(X_train, y_train)\n",
    "\n",
    "lgr_train_score = lgr_gs.best_score_\n",
    "lgr_test_score = lgr_gs.score(X_test, y_test)\n",
    "\n",
    "lgr_accuracy = accuracy_score(y_test, lgr_gs.predict(X_test))\n",
    "lgr_precision = precision_score(y_test, lgr_gs.predict(X_test))\n",
    "\n",
    "print(lgr_gs.best_params_)\n",
    "\n",
    "print('Train Score:', lgr_train_score)\n",
    "print('Test Score:', lgr_test_score)\n",
    "\n",
    "print('Accuracy:', lgr_accuracy)\n",
    "print('Precision:', lgr_precision)"
   ]
  },
  {
   "cell_type": "markdown",
   "metadata": {},
   "source": [
    "**KNN Classifier Trained on Precision**"
   ]
  },
  {
   "cell_type": "code",
   "execution_count": 18,
   "metadata": {},
   "outputs": [
    {
     "name": "stdout",
     "output_type": "stream",
     "text": [
      "{'knn__n_neighbors': 21}\n",
      "Train Score: 0.6216074424745238\n",
      "Test Score: 0.6444444444444445\n",
      "Accuracy: 0.649390243902439\n",
      "Precision: 0.6444444444444445\n"
     ]
    }
   ],
   "source": [
    "knn_pipe = Pipeline([\n",
    "    ('scaler', StandardScaler()),\n",
    "    ('knn', KNeighborsClassifier())\n",
    "])\n",
    "\n",
    "params = {'knn__n_neighbors': [n for n in range(1,22,2)]}\n",
    "\n",
    "knn_gs = GridSearchCV(knn_pipe, param_grid=params, cv=5, scoring=precision_scorer, n_jobs=5).fit(X_train, y_train)\n",
    "\n",
    "knn_train_score = knn_gs.best_score_\n",
    "knn_test_score = knn_gs.score(X_test, y_test)\n",
    "\n",
    "knn_accuracy = accuracy_score(y_test, knn_gs.predict(X_test))\n",
    "knn_precision = precision_score(y_test, knn_gs.predict(X_test))\n",
    "\n",
    "print(knn_gs.best_params_)\n",
    "\n",
    "print('Train Score:', knn_train_score)\n",
    "print('Test Score:', knn_test_score)\n",
    "\n",
    "print('Accuracy:', knn_accuracy)\n",
    "print('Precision:', knn_precision)"
   ]
  },
  {
   "cell_type": "markdown",
   "metadata": {},
   "source": [
    "**Decision Tree Classifier Trained on Precision**"
   ]
  },
  {
   "cell_type": "code",
   "execution_count": 19,
   "metadata": {},
   "outputs": [
    {
     "name": "stdout",
     "output_type": "stream",
     "text": [
      "{'dt__criterion': 'gini', 'dt__max_depth': 3, 'dt__min_samples_leaf': 1, 'dt__min_samples_split': 2}\n",
      "Train Score: 0.690488442375235\n",
      "Test Score: 0.5172413793103449\n",
      "Accuracy: 0.6112804878048781\n",
      "Precision: 0.5172413793103449\n"
     ]
    }
   ],
   "source": [
    "dtree_pipe = Pipeline([\n",
    "    ('scaler', StandardScaler()),\n",
    "    ('dt', DecisionTreeClassifier(random_state=42))\n",
    "])\n",
    "\n",
    "params = {'dt__max_depth': range(1,11,2),\n",
    "          'dt__min_samples_split': [2,3,4,5],\n",
    "          'dt__min_samples_leaf': [1,2,3,4,5],\n",
    "          'dt__criterion': ['gini', 'entropy']}\n",
    "\n",
    "dtree_gs = GridSearchCV(dtree_pipe, param_grid=params, cv=5, scoring=precision_scorer, n_jobs=5).fit(X_train, y_train)\n",
    "\n",
    "dtree_train_score = dtree_gs.best_score_\n",
    "dtree_test_score = dtree_gs.score(X_test, y_test)\n",
    "\n",
    "dtree_accuracy = accuracy_score(y_test, dtree_gs.predict(X_test))\n",
    "dtree_precision = precision_score(y_test, dtree_gs.predict(X_test))\n",
    "\n",
    "print(dtree_gs.best_params_)\n",
    "\n",
    "print('Train Score:', dtree_train_score)\n",
    "print('Test Score:', dtree_test_score)\n",
    "\n",
    "print('Accuracy:', dtree_accuracy)\n",
    "print('Precision:', dtree_precision)"
   ]
  },
  {
   "cell_type": "markdown",
   "metadata": {},
   "source": [
    "**SVM Classifier Trained on Precision**"
   ]
  },
  {
   "cell_type": "code",
   "execution_count": 20,
   "metadata": {},
   "outputs": [
    {
     "name": "stdout",
     "output_type": "stream",
     "text": [
      "{'svm__C': 1, 'svm__gamma': 0.1, 'svm__kernel': 'rbf'}\n",
      "Train Score: 0.7292023793848609\n",
      "Test Score: 0.686046511627907\n",
      "Accuracy: 0.6585365853658537\n",
      "Precision: 0.686046511627907\n"
     ]
    }
   ],
   "source": [
    "svm_pipe = Pipeline([\n",
    "    ('scaler', StandardScaler()),\n",
    "    ('svm', SVC())\n",
    "])\n",
    "\n",
    "params = {'svm__C': [0.1, 1, 10],\n",
    "          'svm__kernel': ['rbf', 'poly', 'linear', 'sigmoid'],\n",
    "          'svm__gamma': [0.1, 1.0, 10.0]}\n",
    "\n",
    "svm_gs = HalvingGridSearchCV(svm_pipe, param_grid=params, cv=5, scoring=precision_scorer, n_jobs=5).fit(X_train, y_train)\n",
    "\n",
    "svm_train_score = svm_gs.best_score_\n",
    "svm_test_score = svm_gs.score(X_test, y_test)\n",
    "\n",
    "svm_accuracy = accuracy_score(y_test, svm_gs.predict(X_test))\n",
    "svm_precision = precision_score(y_test, svm_gs.predict(X_test))\n",
    "\n",
    "print(svm_gs.best_params_)\n",
    "\n",
    "print('Train Score:', svm_train_score)\n",
    "print('Test Score:', svm_test_score)\n",
    "\n",
    "print('Accuracy:', svm_accuracy)\n",
    "print('Precision:', svm_precision)"
   ]
  },
  {
   "cell_type": "markdown",
   "metadata": {},
   "source": [
    "**Random Forest Classifier Trained on Precision**"
   ]
  },
  {
   "cell_type": "code",
   "execution_count": 21,
   "metadata": {},
   "outputs": [
    {
     "name": "stdout",
     "output_type": "stream",
     "text": [
      "{'rf__max_depth': 10, 'rf__min_samples_leaf': 4, 'rf__min_samples_split': 2, 'rf__n_estimators': 200}\n",
      "Train Score: 0.7389169995979697\n",
      "Test Score: 0.7\n",
      "Accuracy: 0.6524390243902439\n",
      "Precision: 0.7\n"
     ]
    }
   ],
   "source": [
    "rf_pipe = Pipeline([\n",
    "    ('scaler', StandardScaler()),\n",
    "    ('rf', RandomForestClassifier(random_state=42))\n",
    "])\n",
    "\n",
    "params = {'rf__n_estimators': [100, 200, 300],\n",
    "            'rf__max_depth': [10, 20, 30],\n",
    "            'rf__min_samples_split': [2, 5, 10],\n",
    "            'rf__min_samples_leaf': [1, 2, 4]}\n",
    "\n",
    "rf_gs = GridSearchCV(rf_pipe, param_grid=params, cv=5, scoring=precision_scorer, n_jobs=5).fit(X_train, y_train)\n",
    "\n",
    "rf_train_score = rf_gs.best_score_\n",
    "rf_test_score = rf_gs.score(X_test, y_test)\n",
    "\n",
    "rf_accuracy = accuracy_score(y_test, rf_gs.predict(X_test))\n",
    "rf_precision = precision_score(y_test, rf_gs.predict(X_test))\n",
    "\n",
    "print(rf_gs.best_params_)\n",
    "print('Train Score:', rf_train_score)\n",
    "print('Test Score:', rf_test_score)\n",
    "\n",
    "print('Accuracy:', rf_accuracy)\n",
    "print('Precision:', rf_precision)"
   ]
  },
  {
   "cell_type": "code",
   "execution_count": 22,
   "metadata": {},
   "outputs": [
    {
     "data": {
      "text/html": [
       "<div>\n",
       "<style scoped>\n",
       "    .dataframe tbody tr th:only-of-type {\n",
       "        vertical-align: middle;\n",
       "    }\n",
       "\n",
       "    .dataframe tbody tr th {\n",
       "        vertical-align: top;\n",
       "    }\n",
       "\n",
       "    .dataframe thead th {\n",
       "        text-align: right;\n",
       "    }\n",
       "</style>\n",
       "<table border=\"1\" class=\"dataframe\">\n",
       "  <thead>\n",
       "    <tr style=\"text-align: right;\">\n",
       "      <th></th>\n",
       "      <th>model</th>\n",
       "      <th>train score</th>\n",
       "      <th>test score</th>\n",
       "      <th>accuracy</th>\n",
       "      <th>precision</th>\n",
       "    </tr>\n",
       "  </thead>\n",
       "  <tbody>\n",
       "    <tr>\n",
       "      <th>0</th>\n",
       "      <td>Logistic Regression</td>\n",
       "      <td>0.583333</td>\n",
       "      <td>1.000000</td>\n",
       "      <td>0.612805</td>\n",
       "      <td>1.000000</td>\n",
       "    </tr>\n",
       "    <tr>\n",
       "      <th>1</th>\n",
       "      <td>KNN</td>\n",
       "      <td>0.621607</td>\n",
       "      <td>0.644444</td>\n",
       "      <td>0.649390</td>\n",
       "      <td>0.644444</td>\n",
       "    </tr>\n",
       "    <tr>\n",
       "      <th>2</th>\n",
       "      <td>Decision Tree</td>\n",
       "      <td>0.690488</td>\n",
       "      <td>0.517241</td>\n",
       "      <td>0.611280</td>\n",
       "      <td>0.517241</td>\n",
       "    </tr>\n",
       "    <tr>\n",
       "      <th>3</th>\n",
       "      <td>SVC</td>\n",
       "      <td>0.729202</td>\n",
       "      <td>0.686047</td>\n",
       "      <td>0.658537</td>\n",
       "      <td>0.686047</td>\n",
       "    </tr>\n",
       "    <tr>\n",
       "      <th>4</th>\n",
       "      <td>Random Forest</td>\n",
       "      <td>0.738917</td>\n",
       "      <td>0.700000</td>\n",
       "      <td>0.652439</td>\n",
       "      <td>0.700000</td>\n",
       "    </tr>\n",
       "  </tbody>\n",
       "</table>\n",
       "</div>"
      ],
      "text/plain": [
       "                 model  train score  test score  accuracy  precision\n",
       "0  Logistic Regression     0.583333    1.000000  0.612805   1.000000\n",
       "1                  KNN     0.621607    0.644444  0.649390   0.644444\n",
       "2        Decision Tree     0.690488    0.517241  0.611280   0.517241\n",
       "3                  SVC     0.729202    0.686047  0.658537   0.686047\n",
       "4        Random Forest     0.738917    0.700000  0.652439   0.700000"
      ]
     },
     "execution_count": 22,
     "metadata": {},
     "output_type": "execute_result"
    }
   ],
   "source": [
    "findings_dict = {'model': ['Logistic Regression', 'KNN', 'Decision Tree', 'SVC', 'Random Forest'], \n",
    "                'train score': [lgr_train_score, knn_train_score, dtree_train_score, svm_train_score, rf_train_score],\n",
    "                'test score': [lgr_test_score, knn_test_score, dtree_test_score, svm_test_score, rf_test_score],\n",
    "                'accuracy': [lgr_accuracy, knn_accuracy, dtree_accuracy, svm_accuracy, rf_accuracy],\n",
    "                'precision': [lgr_precision, knn_precision, dtree_precision, svm_precision, rf_precision]}\n",
    "\n",
    "findings_df = pd.DataFrame(findings_dict)\n",
    "findings_df"
   ]
  },
  {
   "cell_type": "markdown",
   "metadata": {},
   "source": [
    "### Results from Initial Analysis with Classifiers"
   ]
  },
  {
   "cell_type": "markdown",
   "metadata": {},
   "source": [
    "The best model is the Random Forest classifier with an accuracy of ~65% and precision of ~70%. In this initial analysis with classifiers, none of the classifier machine learning models trained on accuracy and precision performed well. \n",
    "\n",
    "In the final analysis, it will be worthwhile to explore other metrics like recall, F1-score, or ROC-AUC, especially given the imbalanced nature of the dataset. These metrics can provide a more holistic view of model performance. \n",
    "\n",
    "Since performance metrics for the classifier models aren't high, balancing the dataset (undersampling, oversampling, SMOTE, etc.) could lead to some improvements."
   ]
  }
 ],
 "metadata": {
  "kernelspec": {
   "display_name": "cert",
   "language": "python",
   "name": "python3"
  },
  "language_info": {
   "codemirror_mode": {
    "name": "ipython",
    "version": 3
   },
   "file_extension": ".py",
   "mimetype": "text/x-python",
   "name": "python",
   "nbconvert_exporter": "python",
   "pygments_lexer": "ipython3",
   "version": "3.11.0"
  }
 },
 "nbformat": 4,
 "nbformat_minor": 2
}
